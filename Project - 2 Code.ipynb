{
 "cells": [
  {
   "cell_type": "code",
   "execution_count": 0,
   "metadata": {
    "application/vnd.databricks.v1+cell": {
     "cellMetadata": {
      "byteLimit": 2048000,
      "rowLimit": 10000
     },
     "inputWidgets": {},
     "nuid": "9a148660-8196-4d8d-9a55-14b49e0b9bdc",
     "showTitle": false,
     "tableResultSettingsMap": {},
     "title": ""
    }
   },
   "outputs": [],
   "source": [
    "from pyspark.sql.functions import col\n",
    "\n",
    "def clean_and_save_data(\n",
    "    input_path: str,\n",
    "    output_path: str,\n",
    "    file_format: str = \"csv\",\n",
    "    output_format: str = \"parquet\",\n",
    "    header: bool = True\n",
    "):\n",
    "    \"\"\"\n",
    "    Reads a CSV file from ADLS Gen2, removes duplicates and nulls, then saves it in Parquet format.\n",
    "    Parameters:\n",
    "    - input_path: ADLS Gen2 path to the input CSV file (e.g., abfss://container@storageaccount.dfs.core.windows.net/folder/input.csv)\n",
    "    - output_path: ADLS Gen2 path where cleaned file will be saved\n",
    "    - file_format: Format of input file (default is 'csv')\n",
    "    - output_format: Format to save cleaned data (default is 'parquet')\n",
    "    - header: Whether the CSV has a header row (default True)\n",
    "    \"\"\"\n",
    "    \n",
    "    # Read CSV from ADLS Gen2\n",
    "    df = spark.read.format(file_format) \\\n",
    "        .option(\"header\", str(header).lower()) \\\n",
    "        .load(input_path)\n",
    "\n",
    "    # Remove nulls and duplicates\n",
    "    df_cleaned = df.dropna().dropDuplicates()\n",
    "\n",
    "    # Save as Parquet to new folder\n",
    "    df_cleaned.write.mode(\"overwrite\").format(output_format).save(output_path)\n",
    "\n",
    "    print(f\"Cleaned data saved to {output_path}\")\n",
    "\n"
   ]
  },
  {
   "cell_type": "code",
   "execution_count": 0,
   "metadata": {
    "application/vnd.databricks.v1+cell": {
     "cellMetadata": {
      "byteLimit": 2048000,
      "rowLimit": 10000
     },
     "inputWidgets": {},
     "nuid": "9657001b-ab90-4ada-8d7b-ccad3c0d5677",
     "showTitle": false,
     "tableResultSettingsMap": {},
     "title": ""
    }
   },
   "outputs": [],
   "source": [
    "input_path = \"/mnt/bootcampproject-2/bronze layer/accounts.csv\"\n",
    "output_path = \"/mnt/bootcampproject-2/silver layer/accounts_cleaned\"\n",
    "\n",
    "clean_and_save_data(input_path, output_path)\n"
   ]
  },
  {
   "cell_type": "code",
   "execution_count": 0,
   "metadata": {
    "application/vnd.databricks.v1+cell": {
     "cellMetadata": {
      "byteLimit": 2048000,
      "rowLimit": 10000
     },
     "inputWidgets": {},
     "nuid": "a55ec23c-de8c-4f16-af1a-c35a9c22d45a",
     "showTitle": false,
     "tableResultSettingsMap": {},
     "title": ""
    }
   },
   "outputs": [],
   "source": [
    "#customers.csv\n",
    "input_path = \"/mnt/bootcampproject-2/bronze layer/customers.csv\"\n",
    "output_path = \"/mnt/bootcampproject-2/silver layer/customers_cleaned\"\n",
    "clean_and_save_data(input_path, output_path)\n",
    "\n",
    "#loan_payments.csv\n",
    "input_path = \"/mnt/bootcampproject-2/bronze layer/loan_payments.csv\"\n",
    "output_path = \"/mnt/bootcampproject-2/silver layer/loan_payments_cleaned\"\n",
    "clean_and_save_data(input_path, output_path)\n",
    "\n",
    "#loans.csv\n",
    "input_path = \"/mnt/bootcampproject-2/bronze layer/loans.csv\"\n",
    "output_path = \"/mnt/bootcampproject-2/silver layer/loans_cleaned\"\n",
    "clean_and_save_data(input_path, output_path)\n",
    "\n",
    "#transactions.csv\n",
    "input_path = \"/mnt/bootcampproject-2/bronze layer/transactions.csv\"\n",
    "output_path = \"/mnt/bootcampproject-2/silver layer/transactions_cleaned\"\n",
    "clean_and_save_data(input_path, output_path)"
   ]
  },
  {
   "cell_type": "code",
   "execution_count": 0,
   "metadata": {
    "application/vnd.databricks.v1+cell": {
     "cellMetadata": {
      "byteLimit": 2048000,
      "rowLimit": 10000
     },
     "inputWidgets": {},
     "nuid": "31fdc145-d529-4765-8749-51e50eae2e38",
     "showTitle": false,
     "tableResultSettingsMap": {},
     "title": ""
    }
   },
   "outputs": [],
   "source": [
    "from pyspark.sql.functions import col\n",
    "\n",
    "# Read all cleaned silver data\n",
    "accounts_df = spark.read.parquet(\"/mnt/bootcampproject-2/silver layer/accounts_cleaned\")\n",
    "customers_df = spark.read.parquet(\"/mnt/bootcampproject-2/silver layer/customers_cleaned\")\n",
    "loan_payments_df = spark.read.parquet(\"/mnt/bootcampproject-2/silver layer/loan_payments_cleaned\")\n",
    "loans_df = spark.read.parquet(\"/mnt/bootcampproject-2/silver layer/loans_cleaned\")\n",
    "transactions_df = spark.read.parquet(\"/mnt/bootcampproject-2/silver layer/transactions_cleaned\")\n",
    "\n",
    "# Step 1: Join accounts with customers on customer_id\n",
    "acc_cust_df = accounts_df.join(customers_df, on=\"customer_id\", how=\"left\")\n",
    "\n",
    "# Step 2: Join with transactions on account_id\n",
    "acc_cust_trans_df = acc_cust_df.join(transactions_df, on=\"account_id\", how=\"left\")\n",
    "\n",
    "# Step 3: Join with loans on account_id\n",
    "acc_cust_trans_loans_df = acc_cust_trans_df.join(loans_df, on=\"customer_id\", how=\"left\")\n",
    "\n",
    "# Step 4: Join with loan_payments on loan_id\n",
    "final_df = acc_cust_trans_loans_df.join(loan_payments_df, on=\"loan_id\", how=\"left\")\n",
    "\n",
    "# Final: Drop duplicates and select required columns\n",
    "final_df = final_df.dropDuplicates().select(\n",
    "    col(\"account_id\").cast(\"int\"), \n",
    "    col(\"customer_id\").cast(\"int\"),\n",
    "    col(\"transaction_id\").cast(\"int\"),\n",
    "    col(\"loan_id\").cast(\"int\"), \n",
    "    col(\"payment_id\").cast(\"int\"),\n",
    "    col(\"balance\").cast(\"float\"),\n",
    "    col(\"transaction_date\").cast(\"timestamp\"),\n",
    "    col(\"transaction_amount\").cast(\"float\"),\n",
    "    col(\"loan_amount\").cast(\"float\"),\n",
    "    col(\"payment_date\").cast(\"timestamp\"),\n",
    "    col(\"payment_amount\").cast(\"float\")\n",
    ")\n",
    "    \n",
    "# Write the result as a Delta table to the silver layer\n",
    "final_df.write.format(\"delta\") \\\n",
    "    .mode(\"overwrite\") \\\n",
    "    .save(\"/mnt/bootcampproject-2/silver layer/final_joined_data_delta\")\n"
   ]
  },
  {
   "cell_type": "code",
   "execution_count": 0,
   "metadata": {
    "application/vnd.databricks.v1+cell": {
     "cellMetadata": {
      "byteLimit": 2048000,
      "rowLimit": 10000
     },
     "inputWidgets": {},
     "nuid": "abf8d0b4-9ec2-46c9-b4d2-2b9f3e666119",
     "showTitle": false,
     "tableResultSettingsMap": {},
     "title": ""
    }
   },
   "outputs": [],
   "source": [
    "final_df.show()"
   ]
  },
  {
   "cell_type": "markdown",
   "metadata": {
    "application/vnd.databricks.v1+cell": {
     "cellMetadata": {},
     "inputWidgets": {},
     "nuid": "16f6c71e-01f1-4206-b9a8-a5b3ffe291e4",
     "showTitle": false,
     "tableResultSettingsMap": {},
     "title": ""
    }
   },
   "source": [
    "#### accounts table scdtype-1"
   ]
  },
  {
   "cell_type": "code",
   "execution_count": 0,
   "metadata": {
    "application/vnd.databricks.v1+cell": {
     "cellMetadata": {
      "byteLimit": 2048000,
      "implicitDf": true,
      "rowLimit": 10000
     },
     "inputWidgets": {},
     "nuid": "20243c17-33e5-4534-9553-b43301a87a38",
     "showTitle": false,
     "tableResultSettingsMap": {},
     "title": ""
    }
   },
   "outputs": [],
   "source": [
    "%sql\n",
    "--gold layer begins now\n",
    "-- we'll do accounts_cleaned file first\n",
    "CREATE TABLE IF NOT EXISTS hive_metastore.default.accounts (\n",
    "    account_id INT,\n",
    "    customer_id INT,\n",
    "    account_type STRING,\n",
    "    balance DOUBLE,\n",
    "    created_by string,\n",
    "    created_date timestamp,\n",
    "    updated_by string,\n",
    "    updated_date timestamp,\n",
    "    hashkey bigint\n",
    ")\n",
    "USING DELTA\n",
    "LOCATION '/mnt/bootcampproject-2/gold layer/accounts'\n"
   ]
  },
  {
   "cell_type": "code",
   "execution_count": 0,
   "metadata": {
    "application/vnd.databricks.v1+cell": {
     "cellMetadata": {
      "byteLimit": 2048000,
      "rowLimit": 10000
     },
     "inputWidgets": {},
     "nuid": "d0ab11eb-4174-48fc-858c-92a65297b4f9",
     "showTitle": false,
     "tableResultSettingsMap": {},
     "title": ""
    }
   },
   "outputs": [],
   "source": [
    "src_path_accounts=\"/mnt/bootcampproject-2/silver layer/accounts_cleaned\"\n",
    "print(src_path_accounts)\n",
    "tgt_path_accounts=\"/mnt/bootcampproject-2/gold layer/accounts\"\n",
    "print(tgt_path_accounts)"
   ]
  },
  {
   "cell_type": "code",
   "execution_count": 0,
   "metadata": {
    "application/vnd.databricks.v1+cell": {
     "cellMetadata": {
      "byteLimit": 2048000,
      "rowLimit": 10000
     },
     "inputWidgets": {},
     "nuid": "43c96b3d-8994-4609-90dc-2b67d14df862",
     "showTitle": false,
     "tableResultSettingsMap": {},
     "title": ""
    }
   },
   "outputs": [],
   "source": [
    "#reading the file just to check if data is present\n",
    "df_src=spark.read.format(\"parquet\").option(\"header\", \"true\").option(\"inferSchema\", \"true\").load(src_path_accounts)\n",
    "display(df_src)"
   ]
  },
  {
   "cell_type": "code",
   "execution_count": 0,
   "metadata": {
    "application/vnd.databricks.v1+cell": {
     "cellMetadata": {
      "byteLimit": 2048000,
      "rowLimit": 10000
     },
     "inputWidgets": {},
     "nuid": "6e7970c7-a45b-4ff4-8825-7c65cfb2c596",
     "showTitle": false,
     "tableResultSettingsMap": {},
     "title": ""
    }
   },
   "outputs": [],
   "source": [
    "#add hashkey\n",
    "from pyspark.sql.functions import *\n",
    "df_hash_accounts=df_src.withColumn(\"hash_key\",crc32(concat(*df_src.columns)))\n",
    "display(df_hash_accounts)"
   ]
  },
  {
   "cell_type": "code",
   "execution_count": 0,
   "metadata": {
    "application/vnd.databricks.v1+cell": {
     "cellMetadata": {
      "byteLimit": 2048000,
      "rowLimit": 10000
     },
     "inputWidgets": {},
     "nuid": "404006b5-07a0-4779-ba41-a24e7c24c9ac",
     "showTitle": false,
     "tableResultSettingsMap": {},
     "title": ""
    }
   },
   "outputs": [],
   "source": [
    "#converting delta table object to dataframe so we can display it\n",
    "from delta.tables import DeltaTable\n",
    "dbtable_accounts = DeltaTable.forPath(spark, tgt_path_accounts)\n",
    "dbtable_accounts.toDF().show()"
   ]
  },
  {
   "cell_type": "code",
   "execution_count": 0,
   "metadata": {
    "application/vnd.databricks.v1+cell": {
     "cellMetadata": {
      "byteLimit": 2048000,
      "rowLimit": 10000
     },
     "inputWidgets": {},
     "nuid": "6ed57df2-14eb-47d7-8fbf-68882d5f6b5f",
     "showTitle": false,
     "tableResultSettingsMap": {},
     "title": ""
    }
   },
   "outputs": [],
   "source": [
    "df_hash_accounts=df_hash_accounts.alias(\"src\").join(dbtable_accounts.toDF().alias(\"tgt\"), ((col(\"src.account_id\") == col(\"tgt.account_id\")) & (col(\"src.hash_key\") == col(\"tgt.hashkey\"))), \"anti\").select(col(\"src.*\"))\n",
    "df_hash_accounts.show()"
   ]
  },
  {
   "cell_type": "code",
   "execution_count": 0,
   "metadata": {
    "application/vnd.databricks.v1+cell": {
     "cellMetadata": {
      "byteLimit": 2048000,
      "rowLimit": 10000
     },
     "inputWidgets": {},
     "nuid": "d1c7ddbb-48df-4931-bc1b-cf49128c63e1",
     "showTitle": false,
     "tableResultSettingsMap": {},
     "title": ""
    }
   },
   "outputs": [],
   "source": [
    "dbtable_accounts.alias(\"tgt\").merge(df_hash_accounts.alias(\"src\"),\"tgt.account_id = src.account_id\")\\\n",
    "    .whenMatchedUpdate(\n",
    "        set={\n",
    "            \"tgt.account_id\": \"src.account_id\",\n",
    "            \"tgt.customer_id\": \"src.customer_id\",\n",
    "            \"tgt.account_type\": \"src.account_type\",\n",
    "            \"tgt.balance\": \"src.balance\",\n",
    "            \"tgt.hashkey\": \"src.hash_key\",\n",
    "            \"tgt.updated_date\": current_timestamp(),\n",
    "            \"tgt.updated_by\": lit(\"databricks-updated\")\n",
    "        }\n",
    "    )\\\n",
    "    .whenNotMatchedInsert(\n",
    "        values={\n",
    "            \"tgt.account_id\": \"src.account_id\",\n",
    "            \"tgt.customer_id\": \"src.customer_id\",\n",
    "            \"tgt.account_type\": \"src.account_type\",\n",
    "            \"tgt.balance\": \"src.balance\",\n",
    "            \"tgt.hashkey\": \"src.hash_key\",\n",
    "            \"tgt.created_date\": current_timestamp(),\n",
    "            \"tgt.created_by\": lit(\"databricks\"),\n",
    "            \"tgt.updated_date\": current_timestamp(),\n",
    "            \"tgt.updated_by\": lit(\"databricks\")\n",
    "        }\n",
    "    ).execute()"
   ]
  },
  {
   "cell_type": "code",
   "execution_count": 0,
   "metadata": {
    "application/vnd.databricks.v1+cell": {
     "cellMetadata": {
      "byteLimit": 2048000,
      "rowLimit": 10000
     },
     "inputWidgets": {},
     "nuid": "ef97ca21-109f-421c-a3b2-7d9ecf94ad67",
     "showTitle": false,
     "tableResultSettingsMap": {},
     "title": ""
    }
   },
   "outputs": [],
   "source": [
    "display(spark.read.format(\"delta\").option(\"header\",\"true\").load(tgt_path_accounts))"
   ]
  },
  {
   "cell_type": "markdown",
   "metadata": {
    "application/vnd.databricks.v1+cell": {
     "cellMetadata": {},
     "inputWidgets": {},
     "nuid": "6653728a-51e1-424d-a083-4a849fc1e274",
     "showTitle": false,
     "tableResultSettingsMap": {},
     "title": ""
    }
   },
   "source": [
    "#### customers table scdtype-1"
   ]
  },
  {
   "cell_type": "code",
   "execution_count": 0,
   "metadata": {
    "application/vnd.databricks.v1+cell": {
     "cellMetadata": {
      "byteLimit": 2048000,
      "implicitDf": true,
      "rowLimit": 10000
     },
     "inputWidgets": {},
     "nuid": "72a1b1c4-cda8-4d80-b2ab-5c9bd8f87e82",
     "showTitle": false,
     "tableResultSettingsMap": {},
     "title": ""
    }
   },
   "outputs": [],
   "source": [
    "%sql\n",
    "--create target table for customers_cleaned file\n",
    "CREATE TABLE IF NOT EXISTS hive_metastore.default.customers (\n",
    "    customer_id int,\n",
    "    first_name string,\n",
    "    last_name string,\n",
    "    address string,\n",
    "    city string,\n",
    "    state string,\n",
    "    zip string,\n",
    "    created_by string,\n",
    "    created_date timestamp,\n",
    "    updated_by string,\n",
    "    updated_date timestamp,\n",
    "    hashkey bigint\n",
    ")\n",
    "USING DELTA\n",
    "LOCATION '/mnt/bootcampproject-2/gold layer/customers'"
   ]
  },
  {
   "cell_type": "code",
   "execution_count": 0,
   "metadata": {
    "application/vnd.databricks.v1+cell": {
     "cellMetadata": {
      "byteLimit": 2048000,
      "rowLimit": 10000
     },
     "inputWidgets": {},
     "nuid": "848b9a27-3cd0-476d-9322-2bb7a7359a45",
     "showTitle": false,
     "tableResultSettingsMap": {},
     "title": ""
    }
   },
   "outputs": [],
   "source": [
    "src_path_customers=\"/mnt/bootcampproject-2/silver layer/customers_cleaned\"\n",
    "print(src_path_customers)\n",
    "tgt_path_customers=\"/mnt/bootcampproject-2/gold layer/customers\"\n",
    "print(tgt_path_customers)"
   ]
  },
  {
   "cell_type": "code",
   "execution_count": 0,
   "metadata": {
    "application/vnd.databricks.v1+cell": {
     "cellMetadata": {
      "byteLimit": 2048000,
      "rowLimit": 10000
     },
     "inputWidgets": {},
     "nuid": "8432ebf8-6ef5-4a5e-b1aa-4783a297603a",
     "showTitle": false,
     "tableResultSettingsMap": {},
     "title": ""
    }
   },
   "outputs": [],
   "source": [
    "#reading the file just to check if data is present\n",
    "df_src=spark.read.format(\"parquet\").option(\"header\", \"true\").option(\"inferSchema\", \"true\").load(src_path_customers)\n",
    "display(df_src)"
   ]
  },
  {
   "cell_type": "code",
   "execution_count": 0,
   "metadata": {
    "application/vnd.databricks.v1+cell": {
     "cellMetadata": {
      "byteLimit": 2048000,
      "rowLimit": 10000
     },
     "inputWidgets": {},
     "nuid": "63a5844b-a70e-46bc-a554-0a099abbf0a9",
     "showTitle": false,
     "tableResultSettingsMap": {},
     "title": ""
    }
   },
   "outputs": [],
   "source": [
    "#add hashkey\n",
    "from pyspark.sql.functions import *\n",
    "df_hash_customers=df_src.withColumn(\"hash_key\",crc32(concat(*df_src.columns)))\n",
    "display(df_hash_customers)"
   ]
  },
  {
   "cell_type": "code",
   "execution_count": 0,
   "metadata": {
    "application/vnd.databricks.v1+cell": {
     "cellMetadata": {
      "byteLimit": 2048000,
      "rowLimit": 10000
     },
     "inputWidgets": {},
     "nuid": "904c4d12-a270-45c0-a391-823233295b76",
     "showTitle": false,
     "tableResultSettingsMap": {},
     "title": ""
    }
   },
   "outputs": [],
   "source": [
    "#converting delta table object to dataframe so we can display it\n",
    "from delta.tables import DeltaTable\n",
    "dbtable_customers = DeltaTable.forPath(spark, tgt_path_customers)\n",
    "dbtable_customers.toDF().show()"
   ]
  },
  {
   "cell_type": "code",
   "execution_count": 0,
   "metadata": {
    "application/vnd.databricks.v1+cell": {
     "cellMetadata": {
      "byteLimit": 2048000,
      "rowLimit": 10000
     },
     "inputWidgets": {},
     "nuid": "c9593487-035d-405f-9205-a5f0ea41d8dd",
     "showTitle": false,
     "tableResultSettingsMap": {},
     "title": ""
    }
   },
   "outputs": [],
   "source": [
    "df_hash_customers=df_hash_customers.alias(\"src\").join(dbtable_customers.toDF().alias(\"tgt\"), ((col(\"src.customer_id\") == col(\"tgt.customer_id\")) & (col(\"src.hash_key\") == col(\"tgt.hashkey\"))), \"anti\").select(col(\"src.*\"))\n",
    "df_hash_customers.show()"
   ]
  },
  {
   "cell_type": "code",
   "execution_count": 0,
   "metadata": {
    "application/vnd.databricks.v1+cell": {
     "cellMetadata": {
      "byteLimit": 2048000,
      "rowLimit": 10000
     },
     "inputWidgets": {},
     "nuid": "340bd2f2-6c4e-4b29-9312-34932e1348c1",
     "showTitle": false,
     "tableResultSettingsMap": {},
     "title": ""
    }
   },
   "outputs": [],
   "source": [
    "dbtable_customers.alias(\"tgt\").merge(df_hash_customers.alias(\"src\"),\"tgt.customer_id = src.customer_id\")\\\n",
    "    .whenMatchedUpdate(\n",
    "        set={\n",
    "            \"tgt.customer_id\": \"src.customer_id\",\n",
    "            \"tgt.first_name\": \"src.first_name\",\n",
    "            \"tgt.last_name\": \"src.last_name\",\n",
    "            \"tgt.address\": \"src.address\",\n",
    "            \"tgt.city\": \"src.city\",\n",
    "            \"tgt.state\": \"src.state\",\n",
    "            \"tgt.zip\": \"src.zip\",\n",
    "            \"tgt.hashkey\": \"src.hash_key\",\n",
    "            \"tgt.updated_date\": current_timestamp(),\n",
    "            \"tgt.updated_by\": lit(\"databricks-updated\")\n",
    "        }\n",
    "    )\\\n",
    "    .whenNotMatchedInsert(\n",
    "        values={\n",
    "            \"tgt.customer_id\": \"src.customer_id\",\n",
    "            \"tgt.first_name\": \"src.first_name\",\n",
    "            \"tgt.last_name\": \"src.last_name\",\n",
    "            \"tgt.address\": \"src.address\",\n",
    "            \"tgt.city\": \"src.city\",\n",
    "            \"tgt.state\": \"src.state\",\n",
    "            \"tgt.zip\": \"src.zip\",\n",
    "            \"tgt.hashkey\": \"src.hash_key\",\n",
    "            \"tgt.created_date\": current_timestamp(),\n",
    "            \"tgt.created_by\": lit(\"databricks\"),\n",
    "            \"tgt.updated_date\": current_timestamp(),\n",
    "            \"tgt.updated_by\": lit(\"databricks\")        \n",
    "        }\n",
    "    ).execute()\n",
    "    \n",
    "display(spark.read.format(\"delta\").option(\"header\",\"true\").load(tgt_path_customers))"
   ]
  },
  {
   "cell_type": "markdown",
   "metadata": {
    "application/vnd.databricks.v1+cell": {
     "cellMetadata": {},
     "inputWidgets": {},
     "nuid": "efb9a03b-ba63-40b0-8140-a53f3be6fa70",
     "showTitle": false,
     "tableResultSettingsMap": {},
     "title": ""
    }
   },
   "source": [
    "#### loan_payments table scdtype-1"
   ]
  },
  {
   "cell_type": "code",
   "execution_count": 0,
   "metadata": {
    "application/vnd.databricks.v1+cell": {
     "cellMetadata": {
      "byteLimit": 2048000,
      "implicitDf": true,
      "rowLimit": 10000
     },
     "inputWidgets": {},
     "nuid": "b3de8d53-2531-45d3-b112-111bf0ad3577",
     "showTitle": false,
     "tableResultSettingsMap": {},
     "title": ""
    }
   },
   "outputs": [],
   "source": [
    "%sql\n",
    "--create target table for loan_payments_cleaned file\n",
    "CREATE TABLE IF NOT EXISTS hive_metastore.default.loan_payments (\n",
    "    payment_id int,\n",
    "    loan_id int,\n",
    "    payment_date date,\n",
    "    payment_amount double,\n",
    "    created_by string,\n",
    "    created_date timestamp,\n",
    "    updated_by string,\n",
    "    updated_date timestamp,\n",
    "    hashkey bigint\n",
    ")\n",
    "USING DELTA\n",
    "LOCATION '/mnt/bootcampproject-2/gold layer/loan_payments'"
   ]
  },
  {
   "cell_type": "code",
   "execution_count": 0,
   "metadata": {
    "application/vnd.databricks.v1+cell": {
     "cellMetadata": {
      "byteLimit": 2048000,
      "rowLimit": 10000
     },
     "inputWidgets": {},
     "nuid": "0e037931-a96b-4b93-805a-7494f122862c",
     "showTitle": false,
     "tableResultSettingsMap": {},
     "title": ""
    }
   },
   "outputs": [],
   "source": [
    "src_path_loan_payments=\"/mnt/bootcampproject-2/silver layer/loan_payments_cleaned\"\n",
    "print(src_path_loan_payments)\n",
    "tgt_path_loan_payments=\"/mnt/bootcampproject-2/gold layer/loan_payments\"\n",
    "print(tgt_path_loan_payments)"
   ]
  },
  {
   "cell_type": "code",
   "execution_count": 0,
   "metadata": {
    "application/vnd.databricks.v1+cell": {
     "cellMetadata": {
      "byteLimit": 2048000,
      "rowLimit": 10000
     },
     "inputWidgets": {},
     "nuid": "b69a24b2-c28e-43a6-9110-5c908262a650",
     "showTitle": false,
     "tableResultSettingsMap": {},
     "title": ""
    }
   },
   "outputs": [],
   "source": [
    "#reading the file just to check if data is present\n",
    "df_src=spark.read.format(\"parquet\").option(\"header\", \"true\").option(\"inferSchema\", \"true\").load(src_path_loan_payments)\n",
    "display(df_src)"
   ]
  },
  {
   "cell_type": "code",
   "execution_count": 0,
   "metadata": {
    "application/vnd.databricks.v1+cell": {
     "cellMetadata": {
      "byteLimit": 2048000,
      "rowLimit": 10000
     },
     "inputWidgets": {},
     "nuid": "99df362c-9e74-4f90-92fe-5d185ef18b4c",
     "showTitle": false,
     "tableResultSettingsMap": {},
     "title": ""
    }
   },
   "outputs": [],
   "source": [
    "#add hashkey\n",
    "from pyspark.sql.functions import *\n",
    "df_hash_loan_payments=df_src.withColumn(\"hash_key\",crc32(concat(*df_src.columns)))\n",
    "display(df_hash_loan_payments)"
   ]
  },
  {
   "cell_type": "code",
   "execution_count": 0,
   "metadata": {
    "application/vnd.databricks.v1+cell": {
     "cellMetadata": {
      "byteLimit": 2048000,
      "rowLimit": 10000
     },
     "inputWidgets": {},
     "nuid": "3379e7fa-6610-4387-8968-f9a0d1af3e0b",
     "showTitle": false,
     "tableResultSettingsMap": {},
     "title": ""
    }
   },
   "outputs": [],
   "source": [
    "#converting delta table object to dataframe so we can display it\n",
    "from delta.tables import DeltaTable\n",
    "dbtable_loan_payments = DeltaTable.forPath(spark, tgt_path_loan_payments)\n",
    "dbtable_loan_payments.toDF().show()"
   ]
  },
  {
   "cell_type": "code",
   "execution_count": 0,
   "metadata": {
    "application/vnd.databricks.v1+cell": {
     "cellMetadata": {
      "byteLimit": 2048000,
      "rowLimit": 10000
     },
     "inputWidgets": {},
     "nuid": "2f94831f-9bc2-4d9b-8529-d525deb0c307",
     "showTitle": false,
     "tableResultSettingsMap": {},
     "title": ""
    }
   },
   "outputs": [],
   "source": [
    "df_hash_loan_payments=df_hash_loan_payments.alias(\"src\").join(dbtable_loan_payments.toDF().alias(\"tgt\"), ((col(\"src.payment_id\") == col(\"tgt.payment_id\")) & (col(\"src.hash_key\") == col(\"tgt.hashkey\"))), \"anti\").select(col(\"src.*\"))\n",
    "df_hash_loan_payments.show()"
   ]
  },
  {
   "cell_type": "code",
   "execution_count": 0,
   "metadata": {
    "application/vnd.databricks.v1+cell": {
     "cellMetadata": {
      "byteLimit": 2048000,
      "rowLimit": 10000
     },
     "inputWidgets": {},
     "nuid": "675fb5e8-4562-4f23-a413-c4d636588997",
     "showTitle": false,
     "tableResultSettingsMap": {},
     "title": ""
    }
   },
   "outputs": [],
   "source": [
    "dbtable_loan_payments.alias(\"tgt\").merge(df_hash_loan_payments.alias(\"src\"),\"tgt.payment_id = src.payment_id\")\\\n",
    "    .whenMatchedUpdate(\n",
    "        set={\n",
    "            \"tgt.payment_id\": \"src.payment_id\",\n",
    "            \"tgt.loan_id\": \"src.loan_id\",\n",
    "            \"tgt.payment_date\": \"src.payment_date\",\n",
    "            \"tgt.payment_amount\": \"src.payment_amount\",\n",
    "            \"tgt.hashkey\": \"src.hash_key\",\n",
    "            \"tgt.updated_date\": current_timestamp(),\n",
    "            \"tgt.updated_by\": lit(\"databricks-updated\")\n",
    "        }\n",
    "    )\\\n",
    "    .whenNotMatchedInsert(\n",
    "        values={\n",
    "            \"tgt.payment_id\": \"src.payment_id\",\n",
    "            \"tgt.loan_id\": \"src.loan_id\",\n",
    "            \"tgt.payment_date\": \"src.payment_date\",\n",
    "            \"tgt.payment_amount\": \"src.payment_amount\",\n",
    "            \"tgt.hashkey\": \"src.hash_key\",\n",
    "            \"tgt.created_date\": current_timestamp(),\n",
    "            \"tgt.created_by\": lit(\"databricks\"),\n",
    "            \"tgt.updated_date\": current_timestamp(),\n",
    "            \"tgt.updated_by\": lit(\"databricks\")       \n",
    "        }\n",
    "    ).execute()\n",
    "    \n",
    "display(spark.read.format(\"delta\").option(\"header\",\"true\").load(tgt_path_loan_payments))"
   ]
  },
  {
   "cell_type": "markdown",
   "metadata": {
    "application/vnd.databricks.v1+cell": {
     "cellMetadata": {},
     "inputWidgets": {},
     "nuid": "e9cb9eb7-efbd-4140-b1e0-d47cff516528",
     "showTitle": false,
     "tableResultSettingsMap": {},
     "title": ""
    }
   },
   "source": [
    "#### loans table scdtype-1"
   ]
  },
  {
   "cell_type": "code",
   "execution_count": 0,
   "metadata": {
    "application/vnd.databricks.v1+cell": {
     "cellMetadata": {
      "byteLimit": 2048000,
      "implicitDf": true,
      "rowLimit": 10000
     },
     "inputWidgets": {},
     "nuid": "580835e1-7fe9-4aa6-b954-cdcaca3d72fb",
     "showTitle": false,
     "tableResultSettingsMap": {},
     "title": ""
    }
   },
   "outputs": [],
   "source": [
    "%sql\n",
    "--create target table for loans_cleaned file\n",
    "CREATE TABLE IF NOT EXISTS hive_metastore.default.loans (\n",
    "    loan_id int,\n",
    "    customer_id int,\n",
    "    loan_amount double,\n",
    "    interest_rate double,\n",
    "    loan_term int,\n",
    "    created_by string,\n",
    "    created_date timestamp,\n",
    "    updated_by string,\n",
    "    updated_date timestamp,\n",
    "    hashkey bigint\n",
    ")\n",
    "USING DELTA\n",
    "LOCATION '/mnt/bootcampproject-2/gold layer/loans'"
   ]
  },
  {
   "cell_type": "code",
   "execution_count": 0,
   "metadata": {
    "application/vnd.databricks.v1+cell": {
     "cellMetadata": {
      "byteLimit": 2048000,
      "rowLimit": 10000
     },
     "inputWidgets": {},
     "nuid": "cf132a62-520d-43d4-9db6-961100232ccc",
     "showTitle": false,
     "tableResultSettingsMap": {},
     "title": ""
    }
   },
   "outputs": [],
   "source": [
    "src_path_loans=\"/mnt/bootcampproject-2/silver layer/loans_cleaned\"\n",
    "print(src_path_loans)\n",
    "tgt_path_loans=\"/mnt/bootcampproject-2/gold layer/loans\"\n",
    "print(tgt_path_loans)"
   ]
  },
  {
   "cell_type": "code",
   "execution_count": 0,
   "metadata": {
    "application/vnd.databricks.v1+cell": {
     "cellMetadata": {
      "byteLimit": 2048000,
      "rowLimit": 10000
     },
     "inputWidgets": {},
     "nuid": "83f08049-2182-4b2b-ada9-bf2fa6430bab",
     "showTitle": false,
     "tableResultSettingsMap": {},
     "title": ""
    }
   },
   "outputs": [],
   "source": [
    "#reading the file just to check if data is present\n",
    "df_src=spark.read.format(\"parquet\").option(\"header\", \"true\").option(\"inferSchema\", \"true\").load(src_path_loans)\n",
    "display(df_src)"
   ]
  },
  {
   "cell_type": "code",
   "execution_count": 0,
   "metadata": {
    "application/vnd.databricks.v1+cell": {
     "cellMetadata": {
      "byteLimit": 2048000,
      "rowLimit": 10000
     },
     "inputWidgets": {},
     "nuid": "baeb244c-b0e8-4c0f-860d-13875b321b40",
     "showTitle": false,
     "tableResultSettingsMap": {},
     "title": ""
    }
   },
   "outputs": [],
   "source": [
    "#add hashkey\n",
    "from pyspark.sql.functions import *\n",
    "df_hash_loans=df_src.withColumn(\"hash_key\",crc32(concat(*df_src.columns)))\n",
    "display(df_hash_loans)"
   ]
  },
  {
   "cell_type": "code",
   "execution_count": 0,
   "metadata": {
    "application/vnd.databricks.v1+cell": {
     "cellMetadata": {
      "byteLimit": 2048000,
      "rowLimit": 10000
     },
     "inputWidgets": {},
     "nuid": "6ad18b3e-0252-4d30-a8b8-fe93157c62a4",
     "showTitle": false,
     "tableResultSettingsMap": {},
     "title": ""
    }
   },
   "outputs": [],
   "source": [
    "#converting delta table object to dataframe so we can display it\n",
    "from delta.tables import DeltaTable\n",
    "dbtable_loans = DeltaTable.forPath(spark, tgt_path_loans)\n",
    "dbtable_loans.toDF().show()"
   ]
  },
  {
   "cell_type": "code",
   "execution_count": 0,
   "metadata": {
    "application/vnd.databricks.v1+cell": {
     "cellMetadata": {
      "byteLimit": 2048000,
      "rowLimit": 10000
     },
     "inputWidgets": {},
     "nuid": "4431a545-5b0b-4ff3-a9ad-26549bcefaaa",
     "showTitle": false,
     "tableResultSettingsMap": {},
     "title": ""
    }
   },
   "outputs": [],
   "source": [
    "df_hash_loans=df_hash_loans.alias(\"src\").join(dbtable_loans.toDF().alias(\"tgt\"), ((col(\"src.loan_id\") == col(\"tgt.loan_id\")) & (col(\"src.hash_key\") == col(\"tgt.hashkey\"))), \"anti\").select(col(\"src.*\"))\n",
    "df_hash_loans.show()"
   ]
  },
  {
   "cell_type": "code",
   "execution_count": 0,
   "metadata": {
    "application/vnd.databricks.v1+cell": {
     "cellMetadata": {
      "byteLimit": 2048000,
      "rowLimit": 10000
     },
     "inputWidgets": {},
     "nuid": "eef43151-bfbb-4773-bc0d-e54d9acfec03",
     "showTitle": false,
     "tableResultSettingsMap": {},
     "title": ""
    }
   },
   "outputs": [],
   "source": [
    "dbtable_loans.alias(\"tgt\").merge(df_hash_loans.alias(\"src\"),\"tgt.loan_id = src.loan_id\")\\\n",
    "    .whenMatchedUpdate(\n",
    "        set={\n",
    "            \"tgt.loan_id\": \"src.loan_id\",\n",
    "            \"tgt.customer_id\": \"src.customer_id\",\n",
    "            \"tgt.loan_amount\": \"src.loan_amount\",\n",
    "            \"tgt.interest_rate\": \"src.interest_rate\",\n",
    "            \"tgt.loan_term\": \"src.loan_term\",\n",
    "            \"tgt.hashkey\": \"src.hash_key\",\n",
    "            \"tgt.updated_date\": current_timestamp(),\n",
    "            \"tgt.updated_by\": lit(\"databricks-updated\")\n",
    "        }\n",
    "    )\\\n",
    "    .whenNotMatchedInsert(\n",
    "        values={\n",
    "            \"tgt.loan_id\": \"src.loan_id\",\n",
    "            \"tgt.customer_id\": \"src.customer_id\",\n",
    "            \"tgt.loan_amount\": \"src.loan_amount\",\n",
    "            \"tgt.interest_rate\": \"src.interest_rate\",\n",
    "            \"tgt.loan_term\": \"src.loan_term\",\n",
    "            \"tgt.hashkey\": \"src.hash_key\",\n",
    "            \"tgt.created_date\": current_timestamp(),\n",
    "            \"tgt.created_by\": lit(\"databricks\"),\n",
    "            \"tgt.updated_date\": current_timestamp(),\n",
    "            \"tgt.updated_by\": lit(\"databricks\")       \n",
    "        }\n",
    "    ).execute()\n",
    "    \n",
    "display(spark.read.format(\"delta\").option(\"header\",\"true\").load(tgt_path_loans))"
   ]
  },
  {
   "cell_type": "markdown",
   "metadata": {
    "application/vnd.databricks.v1+cell": {
     "cellMetadata": {},
     "inputWidgets": {},
     "nuid": "df5d791d-b0d2-4e04-ad3d-37d1c31078f7",
     "showTitle": false,
     "tableResultSettingsMap": {},
     "title": ""
    }
   },
   "source": [
    "#### transactions table scdtype-1"
   ]
  },
  {
   "cell_type": "code",
   "execution_count": 0,
   "metadata": {
    "application/vnd.databricks.v1+cell": {
     "cellMetadata": {
      "byteLimit": 2048000,
      "implicitDf": true,
      "rowLimit": 10000
     },
     "inputWidgets": {},
     "nuid": "b67d6e21-e31d-46db-abb9-539f40ddd534",
     "showTitle": false,
     "tableResultSettingsMap": {},
     "title": ""
    }
   },
   "outputs": [],
   "source": [
    "%sql\n",
    "--create target table for loans_cleaned file\n",
    "CREATE TABLE IF NOT EXISTS hive_metastore.default.transactions (\n",
    "    transaction_id int,\n",
    "    account_id int,\n",
    "    transaction_date date,\n",
    "    transaction_amount double,\n",
    "    transaction_type string,\n",
    "    created_by string,\n",
    "    created_date timestamp,\n",
    "    updated_by string,\n",
    "    updated_date timestamp,\n",
    "    hashkey bigint\n",
    ")\n",
    "USING DELTA\n",
    "LOCATION '/mnt/bootcampproject-2/gold layer/transactions'"
   ]
  },
  {
   "cell_type": "code",
   "execution_count": 0,
   "metadata": {
    "application/vnd.databricks.v1+cell": {
     "cellMetadata": {
      "byteLimit": 2048000,
      "rowLimit": 10000
     },
     "inputWidgets": {},
     "nuid": "49acf463-d1f2-4aea-956b-d3dc91c6d63b",
     "showTitle": false,
     "tableResultSettingsMap": {},
     "title": ""
    }
   },
   "outputs": [],
   "source": [
    "src_path_transactions=\"/mnt/bootcampproject-2/silver layer/transactions_cleaned\"\n",
    "print(src_path_transactions)\n",
    "tgt_path_transactions=\"/mnt/bootcampproject-2/gold layer/transactions\"\n",
    "print(tgt_path_transactions)"
   ]
  },
  {
   "cell_type": "code",
   "execution_count": 0,
   "metadata": {
    "application/vnd.databricks.v1+cell": {
     "cellMetadata": {
      "byteLimit": 2048000,
      "rowLimit": 10000
     },
     "inputWidgets": {},
     "nuid": "069449f5-f993-4dad-bb37-c7bd64c4f8ef",
     "showTitle": false,
     "tableResultSettingsMap": {},
     "title": ""
    }
   },
   "outputs": [],
   "source": [
    "#reading the file just to check if data is present\n",
    "df_src=spark.read.format(\"parquet\").option(\"header\", \"true\").option(\"inferSchema\", \"true\").load(src_path_transactions)\n",
    "display(df_src)"
   ]
  },
  {
   "cell_type": "code",
   "execution_count": 0,
   "metadata": {
    "application/vnd.databricks.v1+cell": {
     "cellMetadata": {
      "byteLimit": 2048000,
      "rowLimit": 10000
     },
     "inputWidgets": {},
     "nuid": "b8ddb519-3b43-4fb7-ad96-fbc4a8b75f0f",
     "showTitle": false,
     "tableResultSettingsMap": {},
     "title": ""
    }
   },
   "outputs": [],
   "source": [
    "#add hashkey\n",
    "from pyspark.sql.functions import *\n",
    "df_hash_transactions=df_src.withColumn(\"hash_key\",crc32(concat(*df_src.columns)))\n",
    "display(df_hash_transactions)"
   ]
  },
  {
   "cell_type": "code",
   "execution_count": 0,
   "metadata": {
    "application/vnd.databricks.v1+cell": {
     "cellMetadata": {
      "byteLimit": 2048000,
      "rowLimit": 10000
     },
     "inputWidgets": {},
     "nuid": "e87b56eb-e0ef-47c3-b5e0-0cd6bd9365c2",
     "showTitle": false,
     "tableResultSettingsMap": {},
     "title": ""
    }
   },
   "outputs": [],
   "source": [
    "#converting delta table object to dataframe so we can display it\n",
    "from delta.tables import DeltaTable\n",
    "dbtable_transactions = DeltaTable.forPath(spark, tgt_path_transactions)\n",
    "dbtable_transactions.toDF().show()"
   ]
  },
  {
   "cell_type": "code",
   "execution_count": 0,
   "metadata": {
    "application/vnd.databricks.v1+cell": {
     "cellMetadata": {
      "byteLimit": 2048000,
      "rowLimit": 10000
     },
     "inputWidgets": {},
     "nuid": "def4c2ef-51da-49ac-bb05-b8e3897de397",
     "showTitle": false,
     "tableResultSettingsMap": {},
     "title": ""
    }
   },
   "outputs": [],
   "source": [
    "df_hash_transactions=df_hash_transactions.alias(\"src\").join(dbtable_transactions.toDF().alias(\"tgt\"), ((col(\"src.transaction_id\") == col(\"tgt.transaction_id\")) & (col(\"src.hash_key\") == col(\"tgt.hashkey\"))), \"anti\").select(col(\"src.*\"))\n",
    "df_hash_transactions.show()"
   ]
  },
  {
   "cell_type": "code",
   "execution_count": 0,
   "metadata": {
    "application/vnd.databricks.v1+cell": {
     "cellMetadata": {
      "byteLimit": 2048000,
      "rowLimit": 10000
     },
     "inputWidgets": {},
     "nuid": "bfc69ab9-125d-476c-9248-bee9f0a4e037",
     "showTitle": false,
     "tableResultSettingsMap": {},
     "title": ""
    }
   },
   "outputs": [],
   "source": [
    "dbtable_transactions.alias(\"tgt\").merge(df_hash_transactions.alias(\"src\"),\"tgt.transaction_id = src.transaction_id\")\\\n",
    "    .whenMatchedUpdate(\n",
    "        set={\n",
    "            \"tgt.transaction_id\": \"src.transaction_id\",\n",
    "            \"tgt.account_id\": \"src.account_id\",\n",
    "            \"tgt.transaction_date\": \"src.transaction_date\",\n",
    "            \"tgt.transaction_amount\": \"src.transaction_amount\",\n",
    "            \"tgt.transaction_type\": \"src.transaction_type\",\n",
    "            \"tgt.hashkey\": \"src.hash_key\",\n",
    "            \"tgt.updated_date\": current_timestamp(),\n",
    "            \"tgt.updated_by\": lit(\"databricks-updated\")\n",
    "        }\n",
    "    )\\\n",
    "    .whenNotMatchedInsert(\n",
    "        values={\n",
    "            \"tgt.transaction_id\": \"src.transaction_id\",\n",
    "            \"tgt.account_id\": \"src.account_id\",\n",
    "            \"tgt.transaction_date\": \"src.transaction_date\",\n",
    "            \"tgt.transaction_amount\": \"src.transaction_amount\",\n",
    "            \"tgt.transaction_type\": \"src.transaction_type\",\n",
    "            \"tgt.hashkey\": \"src.hash_key\",\n",
    "            \"tgt.created_date\": current_timestamp(),\n",
    "            \"tgt.created_by\": lit(\"databricks\"),\n",
    "            \"tgt.updated_date\": current_timestamp(),\n",
    "            \"tgt.updated_by\": lit(\"databricks\")       \n",
    "        }\n",
    "    ).execute()\n",
    "    \n",
    "display(spark.read.format(\"delta\").option(\"header\",\"true\").load(tgt_path_transactions))"
   ]
  }
 ],
 "metadata": {
  "application/vnd.databricks.v1+notebook": {
   "computePreferences": null,
   "dashboards": [],
   "environmentMetadata": {
    "base_environment": "",
    "environment_version": "2"
   },
   "inputWidgetPreferences": null,
   "language": "python",
   "notebookMetadata": {
    "mostRecentlyExecutedCommandWithImplicitDF": {
     "commandId": 7211314107143857,
     "dataframes": [
      "_sqldf"
     ]
    },
    "pythonIndentUnit": 4
   },
   "notebookName": "Project - 2 Code",
   "widgets": {}
  },
  "language_info": {
   "name": "python"
  }
 },
 "nbformat": 4,
 "nbformat_minor": 0
}
